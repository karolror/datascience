{
 "cells": [
  {
   "cell_type": "markdown",
   "metadata": {},
   "source": [
    "## Analysis of variance"
   ]
  },
  {
   "cell_type": "code",
   "execution_count": 20,
   "metadata": {},
   "outputs": [
    {
     "data": {
      "text/html": [
       "<div>\n",
       "<style scoped>\n",
       "    .dataframe tbody tr th:only-of-type {\n",
       "        vertical-align: middle;\n",
       "    }\n",
       "\n",
       "    .dataframe tbody tr th {\n",
       "        vertical-align: top;\n",
       "    }\n",
       "\n",
       "    .dataframe thead th {\n",
       "        text-align: right;\n",
       "    }\n",
       "</style>\n",
       "<table border=\"1\" class=\"dataframe\">\n",
       "  <thead>\n",
       "    <tr style=\"text-align: right;\">\n",
       "      <th></th>\n",
       "      <th>organism</th>\n",
       "      <th>group</th>\n",
       "      <th>size</th>\n",
       "      <th>GC</th>\n",
       "      <th>habitat</th>\n",
       "      <th>temp.group</th>\n",
       "      <th>temperature</th>\n",
       "    </tr>\n",
       "  </thead>\n",
       "  <tbody>\n",
       "    <tr>\n",
       "      <th>0</th>\n",
       "      <td>Acaryochloris marina MBIC11017</td>\n",
       "      <td>Cyanobacteria</td>\n",
       "      <td>8.36</td>\n",
       "      <td>47.0</td>\n",
       "      <td>Aquatic</td>\n",
       "      <td>Mesophilic</td>\n",
       "      <td>NaN</td>\n",
       "    </tr>\n",
       "    <tr>\n",
       "      <th>1</th>\n",
       "      <td>Acholeplasma laidlawii PG-8A</td>\n",
       "      <td>Firmicutes</td>\n",
       "      <td>1.5</td>\n",
       "      <td>31.9</td>\n",
       "      <td>Specialized</td>\n",
       "      <td>Mesophilic</td>\n",
       "      <td>37.0</td>\n",
       "    </tr>\n",
       "    <tr>\n",
       "      <th>2</th>\n",
       "      <td>Acidiphilium cryptum JF-5</td>\n",
       "      <td>Alphaproteobacteria</td>\n",
       "      <td>3.97</td>\n",
       "      <td>67.1</td>\n",
       "      <td>Multiple</td>\n",
       "      <td>Mesophilic</td>\n",
       "      <td>35.0</td>\n",
       "    </tr>\n",
       "    <tr>\n",
       "      <th>3</th>\n",
       "      <td>Acidithiobacillus ferrooxidans ATCC 53993</td>\n",
       "      <td>Other Bacteria</td>\n",
       "      <td>2.9</td>\n",
       "      <td>58.9</td>\n",
       "      <td>Specialized</td>\n",
       "      <td>Mesophilic</td>\n",
       "      <td>NaN</td>\n",
       "    </tr>\n",
       "    <tr>\n",
       "      <th>4</th>\n",
       "      <td>Acidothermus cellulolyticus 11B</td>\n",
       "      <td>Actinobacteria</td>\n",
       "      <td>2.4</td>\n",
       "      <td>66.9</td>\n",
       "      <td>Aquatic</td>\n",
       "      <td>Thermophilic</td>\n",
       "      <td>58.0</td>\n",
       "    </tr>\n",
       "  </tbody>\n",
       "</table>\n",
       "</div>"
      ],
      "text/plain": [
       "                                    organism                group  size    GC  \\\n",
       "0             Acaryochloris marina MBIC11017        Cyanobacteria  8.36  47.0   \n",
       "1               Acholeplasma laidlawii PG-8A           Firmicutes   1.5  31.9   \n",
       "2                  Acidiphilium cryptum JF-5  Alphaproteobacteria  3.97  67.1   \n",
       "3  Acidithiobacillus ferrooxidans ATCC 53993       Other Bacteria   2.9  58.9   \n",
       "4            Acidothermus cellulolyticus 11B       Actinobacteria   2.4  66.9   \n",
       "\n",
       "       habitat    temp.group  temperature  \n",
       "0      Aquatic    Mesophilic          NaN  \n",
       "1  Specialized    Mesophilic         37.0  \n",
       "2     Multiple    Mesophilic         35.0  \n",
       "3  Specialized    Mesophilic          NaN  \n",
       "4      Aquatic  Thermophilic         58.0  "
      ]
     },
     "execution_count": 20,
     "metadata": {},
     "output_type": "execute_result"
    }
   ],
   "source": [
    "import pandas as pd\n",
    "import numpy as np\n",
    "from matplotlib import pyplot as plt\n",
    "from statsmodels.graphics.gofplots import qqplot\n",
    "from scipy.stats import shapiro\n",
    "import statsmodels.api as sm\n",
    "from statsmodels.formula.api import ols\n",
    "from statsmodels.stats.api import anova_lm\n",
    "from statsmodels.stats.multicomp import pairwise_tukeyhsd\n",
    "\n",
    "data = pd.read_csv(\"genomes.csv\", header=0, sep=\";\")\n",
    "data.head()"
   ]
  },
  {
   "cell_type": "code",
   "execution_count": 21,
   "metadata": {},
   "outputs": [
    {
     "data": {
      "text/plain": [
       "organism         0\n",
       "group            1\n",
       "size             1\n",
       "GC               1\n",
       "habitat         15\n",
       "temp.group       1\n",
       "temperature    322\n",
       "dtype: int64"
      ]
     },
     "execution_count": 21,
     "metadata": {},
     "output_type": "execute_result"
    }
   ],
   "source": [
    "data.isnull().sum()"
   ]
  },
  {
   "cell_type": "markdown",
   "metadata": {},
   "source": [
    "#### Preparation of a dataset for analysis"
   ]
  },
  {
   "cell_type": "code",
   "execution_count": 22,
   "metadata": {},
   "outputs": [],
   "source": [
    "data[data.columns[3]] = data[data.columns[3]].replace(0, np.nan)\n",
    "data['size'] = data['size'].replace(\".\", np.nan)\n",
    "data['size'] = data['size'].astype(float)\n",
    "data[data.columns[2]] = data[data.columns[2]].fillna(data[data.columns[2]].mean())\n",
    "data2 = data[data['GC'].notna()]"
   ]
  },
  {
   "cell_type": "code",
   "execution_count": 23,
   "metadata": {},
   "outputs": [],
   "source": [
    "data = data2"
   ]
  },
  {
   "cell_type": "markdown",
   "metadata": {},
   "source": [
    "#### Check that GC and size are from a normally distributed population."
   ]
  },
  {
   "cell_type": "markdown",
   "metadata": {},
   "source": [
    "#### Graphically"
   ]
  },
  {
   "cell_type": "code",
   "execution_count": 24,
   "metadata": {},
   "outputs": [
    {
     "data": {
      "image/png": "[encoded data removed]",
      "text/plain": [
       "<Figure size 432x288 with 1 Axes>"
      ]
     },
     "metadata": {
      "needs_background": "light"
     },
     "output_type": "display_data"
    }
   ],
   "source": [
    "plt.figure()\n",
    "\n",
    "GC=data['GC']\n",
    "Size=data['size']\n",
    "\n",
    "plt.hist(GC)\n",
    "plt.xlabel('% content of GC pairs')\n",
    "plt.ylabel('frequency')\n",
    "\n",
    "plt.show()"
   ]
  },
  {
   "cell_type": "code",
   "execution_count": 25,
   "metadata": {},
   "outputs": [
    {
     "data": {
      "image/png": "[encoded data removed]",
      "text/plain": [
       "<Figure size 432x288 with 1 Axes>"
      ]
     },
     "metadata": {
      "needs_background": "light"
     },
     "output_type": "display_data"
    }
   ],
   "source": [
    "from statsmodels.graphics.gofplots import qqplot\n",
    "\n",
    "qqplot(GC, line='s')\n",
    "plt.show()"
   ]
  },
  {
   "cell_type": "code",
   "execution_count": 26,
   "metadata": {},
   "outputs": [
    {
     "data": {
      "image/png": "[encoded data removed]",
      "text/plain": [
       "<Figure size 432x288 with 1 Axes>"
      ]
     },
     "metadata": {
      "needs_background": "light"
     },
     "output_type": "display_data"
    }
   ],
   "source": [
    "plt.figure()\n",
    "\n",
    "plt.hist(Size)\n",
    "plt.xlabel('genome size in Mbp')\n",
    "plt.ylabel('frequency')\n",
    "plt.show()"
   ]
  },
  {
   "cell_type": "code",
   "execution_count": 27,
   "metadata": {},
   "outputs": [
    {
     "data": {
      "image/png": "[encoded data removed]",
      "text/plain": [
       "<Figure size 432x288 with 1 Axes>"
      ]
     },
     "metadata": {
      "needs_background": "light"
     },
     "output_type": "display_data"
    }
   ],
   "source": [
    "qqplot(Size, line='s')\n",
    "plt.show()"
   ]
  },
  {
   "cell_type": "markdown",
   "metadata": {},
   "source": [
    "#### Testing for Normality using SPSS\n",
    "\n",
    "GC\n",
    "\n",
    "$H_0:$ The sample is from a normally distributed population\n",
    "$H_1:$ The sample is not from a normally distributed population\n",
    "\n",
    "Size\n",
    "\n",
    "$H_0:$ The sample is from a normally distributed population\n",
    "$H_1:$ The sample is not from a normally distributed population\n"
   ]
  },
  {
   "cell_type": "markdown",
   "metadata": {},
   "source": [
    "#### Testing function"
   ]
  },
  {
   "cell_type": "code",
   "execution_count": 17,
   "metadata": {},
   "outputs": [
    {
     "name": "stdout",
     "output_type": "stream",
     "text": [
      "Sample distribution other than normal distribution (can be rejected H0)\n"
     ]
    }
   ],
   "source": [
    "stat, p = shapiro(data['size'])\n",
    "alpha = 0.05\n",
    "\n",
    "\n",
    "def testing (p, alpha):\n",
    "    if p > alpha:\n",
    "        print('Sample distribution similar to a normal distribution (there is no reason to reject H0)')\n",
    "    else:\n",
    "        print('Sample distribution other than normal distribution (can be rejected H0)')\n",
    "\n",
    "testing(p, alpha)"
   ]
  },
  {
   "cell_type": "markdown",
   "metadata": {},
   "source": [
    "#### Assuming that the GC variable is from a normally distributed population"
   ]
  },
  {
   "cell_type": "markdown",
   "metadata": {},
   "source": [
    "$H_0:$ No significant differences in stat. between the habitats of organisms and the average content of GC pairs"
   ]
  },
  {
   "cell_type": "markdown",
   "metadata": {},
   "source": [
    "$H_1:$ There are significant stats. differences between the habitats of organisms and the average content of GC pairs"
   ]
  },
  {
   "cell_type": "code",
   "execution_count": 28,
   "metadata": {},
   "outputs": [
    {
     "name": "stdout",
     "output_type": "stream",
     "text": [
      "<class 'pandas.core.frame.DataFrame'>\n",
      "Int64Index: 718 entries, 0 to 723\n",
      "Data columns (total 7 columns):\n",
      " #   Column       Non-Null Count  Dtype  \n",
      "---  ------       --------------  -----  \n",
      " 0   organism     718 non-null    object \n",
      " 1   group        718 non-null    object \n",
      " 2   size         718 non-null    float64\n",
      " 3   GC           718 non-null    float64\n",
      " 4   habitat      704 non-null    object \n",
      " 5   temp.group   718 non-null    object \n",
      " 6   temperature  398 non-null    float64\n",
      "dtypes: float64(3), object(4)\n",
      "memory usage: 33.7+ KB\n",
      "None\n"
     ]
    }
   ],
   "source": [
    "print(data.info()) #coding\n",
    "\n",
    "#the habitat must be changed into a categorical variable\n",
    "data['habitat'] = data['habitat'].astype('category')"
   ]
  },
  {
   "cell_type": "code",
   "execution_count": 29,
   "metadata": {},
   "outputs": [
    {
     "data": {
      "text/html": [
       "<div>\n",
       "<style scoped>\n",
       "    .dataframe tbody tr th:only-of-type {\n",
       "        vertical-align: middle;\n",
       "    }\n",
       "\n",
       "    .dataframe tbody tr th {\n",
       "        vertical-align: top;\n",
       "    }\n",
       "\n",
       "    .dataframe thead th {\n",
       "        text-align: right;\n",
       "    }\n",
       "</style>\n",
       "<table border=\"1\" class=\"dataframe\">\n",
       "  <thead>\n",
       "    <tr style=\"text-align: right;\">\n",
       "      <th></th>\n",
       "      <th>sum_sq</th>\n",
       "      <th>df</th>\n",
       "      <th>F</th>\n",
       "      <th>PR(&gt;F)</th>\n",
       "    </tr>\n",
       "  </thead>\n",
       "  <tbody>\n",
       "    <tr>\n",
       "      <th>habitat</th>\n",
       "      <td>8928.975213</td>\n",
       "      <td>4.0</td>\n",
       "      <td>13.973147</td>\n",
       "      <td>5.666201e-11</td>\n",
       "    </tr>\n",
       "    <tr>\n",
       "      <th>Residual</th>\n",
       "      <td>111666.928409</td>\n",
       "      <td>699.0</td>\n",
       "      <td>NaN</td>\n",
       "      <td>NaN</td>\n",
       "    </tr>\n",
       "  </tbody>\n",
       "</table>\n",
       "</div>"
      ],
      "text/plain": [
       "                 sum_sq     df          F        PR(>F)\n",
       "habitat     8928.975213    4.0  13.973147  5.666201e-11\n",
       "Residual  111666.928409  699.0        NaN           NaN"
      ]
     },
     "execution_count": 29,
     "metadata": {},
     "output_type": "execute_result"
    }
   ],
   "source": [
    "#creating a linear model\n",
    "model =ols(\"GC ~ habitat\", data= data).fit()\n",
    "#anova\n",
    "aov_table = sm.stats.anova_lm(model, typ=2)\n",
    "aov_table"
   ]
  },
  {
   "cell_type": "markdown",
   "metadata": {},
   "source": [
    "#### Post-hoc"
   ]
  },
  {
   "cell_type": "code",
   "execution_count": 30,
   "metadata": {},
   "outputs": [
    {
     "data": {
      "text/html": [
       "<table class=\"simpletable\">\n",
       "<caption>Multiple Comparison of Means - Tukey HSD, FWER=0.05</caption>\n",
       "<tr>\n",
       "      <th>group1</th>          <th>group2</th>      <th>meandiff</th>  <th>p-adj</th>   <th>lower</th>   <th>upper</th>  <th>reject</th>\n",
       "</tr>\n",
       "<tr>\n",
       "      <td>Aquatic</td>     <td>Host-associated</td>  <td>-4.4132</td> <td>0.0178</td>  <td>-8.3504</td> <td>-0.4761</td>  <td>True</td> \n",
       "</tr>\n",
       "<tr>\n",
       "      <td>Aquatic</td>        <td>Multiple</td>      <td>1.7907</td>  <td>0.7944</td>  <td>-2.3459</td> <td>5.9273</td>   <td>False</td>\n",
       "</tr>\n",
       "<tr>\n",
       "      <td>Aquatic</td>       <td>Specialized</td>    <td>0.3658</td>    <td>0.9</td>   <td>-5.1371</td> <td>5.8688</td>   <td>False</td>\n",
       "</tr>\n",
       "<tr>\n",
       "      <td>Aquatic</td>       <td>Terrestrial</td>    <td>9.0644</td>  <td>0.0013</td>   <td>2.465</td>  <td>15.6639</td>  <td>True</td> \n",
       "</tr>\n",
       "<tr>\n",
       "      <td>Aquatic</td>           <td>nan</td>        <td>3.6491</td>    <td>0.9</td>   <td>-6.5837</td> <td>13.8818</td>  <td>False</td>\n",
       "</tr>\n",
       "<tr>\n",
       "  <td>Host-associated</td>    <td>Multiple</td>       <td>6.204</td>   <td>0.001</td>  <td>2.8324</td>  <td>9.5755</td>   <td>True</td> \n",
       "</tr>\n",
       "<tr>\n",
       "  <td>Host-associated</td>   <td>Specialized</td>    <td>4.7791</td>   <td>0.066</td>  <td>-0.1746</td> <td>9.7327</td>   <td>False</td>\n",
       "</tr>\n",
       "<tr>\n",
       "  <td>Host-associated</td>   <td>Terrestrial</td>    <td>13.4777</td>  <td>0.001</td>  <td>7.3288</td>  <td>19.6266</td>  <td>True</td> \n",
       "</tr>\n",
       "<tr>\n",
       "  <td>Host-associated</td>       <td>nan</td>        <td>8.0623</td>  <td>0.1888</td>  <td>-1.8858</td> <td>18.0105</td>  <td>False</td>\n",
       "</tr>\n",
       "<tr>\n",
       "     <td>Multiple</td>       <td>Specialized</td>    <td>-1.4249</td>   <td>0.9</td>   <td>-6.5385</td> <td>3.6887</td>   <td>False</td>\n",
       "</tr>\n",
       "<tr>\n",
       "     <td>Multiple</td>       <td>Terrestrial</td>    <td>7.2737</td>  <td>0.0125</td>  <td>0.9953</td>  <td>13.5522</td>  <td>True</td> \n",
       "</tr>\n",
       "<tr>\n",
       "     <td>Multiple</td>           <td>nan</td>        <td>1.8584</td>    <td>0.9</td>   <td>-8.1703</td> <td>11.8871</td>  <td>False</td>\n",
       "</tr>\n",
       "<tr>\n",
       "    <td>Specialized</td>     <td>Terrestrial</td>    <td>8.6986</td>  <td>0.0084</td>  <td>1.4467</td>  <td>15.9505</td>  <td>True</td> \n",
       "</tr>\n",
       "<tr>\n",
       "    <td>Specialized</td>         <td>nan</td>        <td>3.2833</td>    <td>0.9</td>   <td>-7.3819</td> <td>13.9485</td>  <td>False</td>\n",
       "</tr>\n",
       "<tr>\n",
       "    <td>Terrestrial</td>         <td>nan</td>        <td>-5.4154</td>  <td>0.716</td> <td>-16.6855</td> <td>5.8548</td>   <td>False</td>\n",
       "</tr>\n",
       "</table>"
      ],
      "text/plain": [
       "<class 'statsmodels.iolib.table.SimpleTable'>"
      ]
     },
     "execution_count": 30,
     "metadata": {},
     "output_type": "execute_result"
    }
   ],
   "source": [
    "tukey = pairwise_tukeyhsd(endog=data['GC'].astype('float'),\n",
    "                          groups=list(data['habitat']), alpha=0.05)\n",
    "\n",
    "tukey.summary()"
   ]
  },
  {
   "cell_type": "markdown",
   "metadata": {},
   "source": [
    "#### Variance model where the value of the GC pair value is tested in relation to the place of existence of microorganisms and their group of existence"
   ]
  },
  {
   "cell_type": "code",
   "execution_count": 31,
   "metadata": {},
   "outputs": [
    {
     "name": "stdout",
     "output_type": "stream",
     "text": [
      "<class 'pandas.core.frame.DataFrame'>\n",
      "Int64Index: 718 entries, 0 to 723\n",
      "Data columns (total 7 columns):\n",
      " #   Column       Non-Null Count  Dtype   \n",
      "---  ------       --------------  -----   \n",
      " 0   organism     718 non-null    object  \n",
      " 1   group        718 non-null    object  \n",
      " 2   size         718 non-null    float64 \n",
      " 3   GC           718 non-null    float64 \n",
      " 4   habitat      704 non-null    category\n",
      " 5   temp_group   718 non-null    object  \n",
      " 6   temperature  398 non-null    float64 \n",
      "dtypes: category(1), float64(3), object(3)\n",
      "memory usage: 31.7+ KB\n"
     ]
    }
   ],
   "source": [
    "data_new = data.rename(columns={'temp.group': 'temp_group'})\n",
    "data_new.info()"
   ]
  },
  {
   "cell_type": "code",
   "execution_count": 15,
   "metadata": {},
   "outputs": [],
   "source": [
    "#data_new['habitat'] = data_new['habitat'].astype('category')\n",
    "#data_new['GC'] = data_new['GC'].astype('float')\n",
    "#data_new['temp_group'] = data_new['temp_group'].astype('category')\n"
   ]
  },
  {
   "cell_type": "markdown",
   "metadata": {},
   "source": [
    "#### Model without interaction"
   ]
  },
  {
   "cell_type": "markdown",
   "metadata": {},
   "source": [
    "$H_0:$ No significant differences in stat. between the habitats of organisms and the average content of GC pairs\n"
   ]
  },
  {
   "cell_type": "markdown",
   "metadata": {},
   "source": [
    "$H_1:$ There are significant stats. differences between the habitats of organisms and the average content of GC pairs"
   ]
  },
  {
   "cell_type": "markdown",
   "metadata": {},
   "source": [
    "$H_0:$ No significant differences in stat. between the temp group of organisms and the average content of GC pairs"
   ]
  },
  {
   "cell_type": "markdown",
   "metadata": {},
   "source": [
    "$H_1:$ There are significant stats. differences between the temp group of organisms and the average content of GC pairs"
   ]
  },
  {
   "cell_type": "code",
   "execution_count": 32,
   "metadata": {},
   "outputs": [],
   "source": [
    "model2 =ols(\"GC ~ habitat+temp_group\", data= data_new).fit()"
   ]
  },
  {
   "cell_type": "code",
   "execution_count": 33,
   "metadata": {},
   "outputs": [
    {
     "data": {
      "text/html": [
       "<div>\n",
       "<style scoped>\n",
       "    .dataframe tbody tr th:only-of-type {\n",
       "        vertical-align: middle;\n",
       "    }\n",
       "\n",
       "    .dataframe tbody tr th {\n",
       "        vertical-align: top;\n",
       "    }\n",
       "\n",
       "    .dataframe thead th {\n",
       "        text-align: right;\n",
       "    }\n",
       "</style>\n",
       "<table border=\"1\" class=\"dataframe\">\n",
       "  <thead>\n",
       "    <tr style=\"text-align: right;\">\n",
       "      <th></th>\n",
       "      <th>sum_sq</th>\n",
       "      <th>df</th>\n",
       "      <th>F</th>\n",
       "      <th>PR(&gt;F)</th>\n",
       "    </tr>\n",
       "  </thead>\n",
       "  <tbody>\n",
       "    <tr>\n",
       "      <th>habitat</th>\n",
       "      <td>9287.938552</td>\n",
       "      <td>4.0</td>\n",
       "      <td>14.646662</td>\n",
       "      <td>1.708814e-11</td>\n",
       "    </tr>\n",
       "    <tr>\n",
       "      <th>temp_group</th>\n",
       "      <td>1327.708002</td>\n",
       "      <td>3.0</td>\n",
       "      <td>2.791648</td>\n",
       "      <td>3.964533e-02</td>\n",
       "    </tr>\n",
       "    <tr>\n",
       "      <th>Residual</th>\n",
       "      <td>110339.220408</td>\n",
       "      <td>696.0</td>\n",
       "      <td>NaN</td>\n",
       "      <td>NaN</td>\n",
       "    </tr>\n",
       "  </tbody>\n",
       "</table>\n",
       "</div>"
      ],
      "text/plain": [
       "                   sum_sq     df          F        PR(>F)\n",
       "habitat       9287.938552    4.0  14.646662  1.708814e-11\n",
       "temp_group    1327.708002    3.0   2.791648  3.964533e-02\n",
       "Residual    110339.220408  696.0        NaN           NaN"
      ]
     },
     "execution_count": 33,
     "metadata": {},
     "output_type": "execute_result"
    }
   ],
   "source": [
    "aov_table2 = sm.stats.anova_lm(model2, typ=2)\n",
    "aov_table2"
   ]
  },
  {
   "cell_type": "markdown",
   "metadata": {},
   "source": [
    "#### Model with interaction"
   ]
  },
  {
   "cell_type": "markdown",
   "metadata": {},
   "source": [
    "$H_0:$ No significant differences in stat. between the habitats of organisms and the average content of GC pairs"
   ]
  },
  {
   "cell_type": "markdown",
   "metadata": {},
   "source": [
    "$H_1:$ There are significant stats. differences between the habitats of organisms and the average content of GC pairs"
   ]
  },
  {
   "cell_type": "markdown",
   "metadata": {},
   "source": [
    "$H_0:$ No significant differences in stat. between the temp group of organisms and the average content of GC pairs"
   ]
  },
  {
   "cell_type": "markdown",
   "metadata": {},
   "source": [
    "$H_1:$ There are significant stats. differences between the temp group of organisms and the average content of GC pairs"
   ]
  },
  {
   "cell_type": "markdown",
   "metadata": {},
   "source": [
    "$H_0:$ No impact of iteration between temp_group and habitat"
   ]
  },
  {
   "cell_type": "markdown",
   "metadata": {},
   "source": [
    "$H_1:$ Effect of iteration between temp_group and habitat"
   ]
  },
  {
   "cell_type": "code",
   "execution_count": 34,
   "metadata": {},
   "outputs": [
    {
     "name": "stderr",
     "output_type": "stream",
     "text": [
      "d:\\programy\\python\\lib\\site-packages\\statsmodels\\base\\model.py:1834: ValueWarning: covariance of constraints does not have full rank. The number of constraints is 4, but rank is 2\n",
      "  'rank is %d' % (J, J_), ValueWarning)\n",
      "d:\\programy\\python\\lib\\site-packages\\statsmodels\\base\\model.py:1834: ValueWarning: covariance of constraints does not have full rank. The number of constraints is 3, but rank is 1\n",
      "  'rank is %d' % (J, J_), ValueWarning)\n",
      "d:\\programy\\python\\lib\\site-packages\\statsmodels\\base\\model.py:1834: ValueWarning: covariance of constraints does not have full rank. The number of constraints is 12, but rank is 10\n",
      "  'rank is %d' % (J, J_), ValueWarning)\n"
     ]
    },
    {
     "data": {
      "text/html": [
       "<div>\n",
       "<style scoped>\n",
       "    .dataframe tbody tr th:only-of-type {\n",
       "        vertical-align: middle;\n",
       "    }\n",
       "\n",
       "    .dataframe tbody tr th {\n",
       "        vertical-align: top;\n",
       "    }\n",
       "\n",
       "    .dataframe thead th {\n",
       "        text-align: right;\n",
       "    }\n",
       "</style>\n",
       "<table border=\"1\" class=\"dataframe\">\n",
       "  <thead>\n",
       "    <tr style=\"text-align: right;\">\n",
       "      <th></th>\n",
       "      <th>sum_sq</th>\n",
       "      <th>df</th>\n",
       "      <th>F</th>\n",
       "      <th>PR(&gt;F)</th>\n",
       "    </tr>\n",
       "  </thead>\n",
       "  <tbody>\n",
       "    <tr>\n",
       "      <th>habitat</th>\n",
       "      <td>951.911555</td>\n",
       "      <td>4.0</td>\n",
       "      <td>1.486983</td>\n",
       "      <td>0.226780</td>\n",
       "    </tr>\n",
       "    <tr>\n",
       "      <th>temp_group</th>\n",
       "      <td>535.013051</td>\n",
       "      <td>3.0</td>\n",
       "      <td>1.114327</td>\n",
       "      <td>0.291514</td>\n",
       "    </tr>\n",
       "    <tr>\n",
       "      <th>habitat:temp_group</th>\n",
       "      <td>561.888055</td>\n",
       "      <td>12.0</td>\n",
       "      <td>0.292576</td>\n",
       "      <td>0.982879</td>\n",
       "    </tr>\n",
       "    <tr>\n",
       "      <th>Residual</th>\n",
       "      <td>109947.972373</td>\n",
       "      <td>687.0</td>\n",
       "      <td>NaN</td>\n",
       "      <td>NaN</td>\n",
       "    </tr>\n",
       "  </tbody>\n",
       "</table>\n",
       "</div>"
      ],
      "text/plain": [
       "                           sum_sq     df         F    PR(>F)\n",
       "habitat                951.911555    4.0  1.486983  0.226780\n",
       "temp_group             535.013051    3.0  1.114327  0.291514\n",
       "habitat:temp_group     561.888055   12.0  0.292576  0.982879\n",
       "Residual            109947.972373  687.0       NaN       NaN"
      ]
     },
     "execution_count": 34,
     "metadata": {},
     "output_type": "execute_result"
    }
   ],
   "source": [
    "model3 =ols(\"GC ~ habitat*temp_group\", data= data_new).fit()\n",
    "aov_table3 = sm.stats.anova_lm(model3, typ=2)\n",
    "aov_table3"
   ]
  }
 ],
 "metadata": {
  "kernelspec": {
   "display_name": "Python 3",
   "language": "python",
   "name": "python3"
  },
  "language_info": {
   "codemirror_mode": {
    "name": "ipython",
    "version": 3
   },
   "file_extension": ".py",
   "mimetype": "text/x-python",
   "name": "python",
   "nbconvert_exporter": "python",
   "pygments_lexer": "ipython3",
   "version": "3.7.4"
  }
 },
 "nbformat": 4,
 "nbformat_minor": 4
}
