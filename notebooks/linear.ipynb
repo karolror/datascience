{
 "cells": [
  {
   "cell_type": "markdown",
   "metadata": {},
   "source": [
    "# Linear Regression"
   ]
  },
  {
   "cell_type": "markdown",
   "metadata": {},
   "source": [
    "#### Import of libraries"
   ]
  },
  {
   "cell_type": "code",
   "execution_count": 2,
   "metadata": {},
   "outputs": [],
   "source": [
    "import pandas as pd\n",
    "import numpy as np\n",
    "from sklearn.linear_model import LinearRegression\n",
    "import statsmodels.api as sm\n",
    "from matplotlib import pyplot as plt"
   ]
  },
  {
   "cell_type": "markdown",
   "metadata": {},
   "source": [
    "#### Load dataset"
   ]
  },
  {
   "cell_type": "code",
   "execution_count": 3,
   "metadata": {},
   "outputs": [
    {
     "data": {
      "text/html": [
       "<div>\n",
       "<style scoped>\n",
       "    .dataframe tbody tr th:only-of-type {\n",
       "        vertical-align: middle;\n",
       "    }\n",
       "\n",
       "    .dataframe tbody tr th {\n",
       "        vertical-align: top;\n",
       "    }\n",
       "\n",
       "    .dataframe thead th {\n",
       "        text-align: right;\n",
       "    }\n",
       "</style>\n",
       "<table border=\"1\" class=\"dataframe\">\n",
       "  <thead>\n",
       "    <tr style=\"text-align: right;\">\n",
       "      <th></th>\n",
       "      <th>organism</th>\n",
       "      <th>group</th>\n",
       "      <th>size</th>\n",
       "      <th>GC</th>\n",
       "      <th>habitat</th>\n",
       "      <th>temp.group</th>\n",
       "      <th>temperature</th>\n",
       "    </tr>\n",
       "  </thead>\n",
       "  <tbody>\n",
       "    <tr>\n",
       "      <th>0</th>\n",
       "      <td>Acaryochloris marina MBIC11017</td>\n",
       "      <td>Cyanobacteria</td>\n",
       "      <td>8.36</td>\n",
       "      <td>47.0</td>\n",
       "      <td>Aquatic</td>\n",
       "      <td>Mesophilic</td>\n",
       "      <td>NaN</td>\n",
       "    </tr>\n",
       "    <tr>\n",
       "      <th>1</th>\n",
       "      <td>Acholeplasma laidlawii PG-8A</td>\n",
       "      <td>Firmicutes</td>\n",
       "      <td>1.5</td>\n",
       "      <td>31.9</td>\n",
       "      <td>Specialized</td>\n",
       "      <td>Mesophilic</td>\n",
       "      <td>37.0</td>\n",
       "    </tr>\n",
       "    <tr>\n",
       "      <th>2</th>\n",
       "      <td>Acidiphilium cryptum JF-5</td>\n",
       "      <td>Alphaproteobacteria</td>\n",
       "      <td>3.97</td>\n",
       "      <td>67.1</td>\n",
       "      <td>Multiple</td>\n",
       "      <td>Mesophilic</td>\n",
       "      <td>35.0</td>\n",
       "    </tr>\n",
       "    <tr>\n",
       "      <th>3</th>\n",
       "      <td>Acidithiobacillus ferrooxidans ATCC 53993</td>\n",
       "      <td>Other Bacteria</td>\n",
       "      <td>2.9</td>\n",
       "      <td>58.9</td>\n",
       "      <td>Specialized</td>\n",
       "      <td>Mesophilic</td>\n",
       "      <td>NaN</td>\n",
       "    </tr>\n",
       "    <tr>\n",
       "      <th>4</th>\n",
       "      <td>Acidothermus cellulolyticus 11B</td>\n",
       "      <td>Actinobacteria</td>\n",
       "      <td>2.4</td>\n",
       "      <td>66.9</td>\n",
       "      <td>Aquatic</td>\n",
       "      <td>Thermophilic</td>\n",
       "      <td>58.0</td>\n",
       "    </tr>\n",
       "  </tbody>\n",
       "</table>\n",
       "</div>"
      ],
      "text/plain": [
       "                                    organism                group  size    GC  \\\n",
       "0             Acaryochloris marina MBIC11017        Cyanobacteria  8.36  47.0   \n",
       "1               Acholeplasma laidlawii PG-8A           Firmicutes   1.5  31.9   \n",
       "2                  Acidiphilium cryptum JF-5  Alphaproteobacteria  3.97  67.1   \n",
       "3  Acidithiobacillus ferrooxidans ATCC 53993       Other Bacteria   2.9  58.9   \n",
       "4            Acidothermus cellulolyticus 11B       Actinobacteria   2.4  66.9   \n",
       "\n",
       "       habitat    temp.group  temperature  \n",
       "0      Aquatic    Mesophilic          NaN  \n",
       "1  Specialized    Mesophilic         37.0  \n",
       "2     Multiple    Mesophilic         35.0  \n",
       "3  Specialized    Mesophilic          NaN  \n",
       "4      Aquatic  Thermophilic         58.0  "
      ]
     },
     "execution_count": 3,
     "metadata": {},
     "output_type": "execute_result"
    }
   ],
   "source": [
    "dataLinear = pd.read_csv(\"genomes.csv\", sep=\";\")\n",
    "dataLinear.head()"
   ]
  },
  {
   "cell_type": "markdown",
   "metadata": {},
   "source": [
    "#### Preparation of a dataset"
   ]
  },
  {
   "cell_type": "code",
   "execution_count": 5,
   "metadata": {},
   "outputs": [
    {
     "name": "stdout",
     "output_type": "stream",
     "text": [
      "0      8.360000\n",
      "1      1.500000\n",
      "2      3.970000\n",
      "3      2.900000\n",
      "4      2.400000\n",
      "         ...   \n",
      "719    4.910000\n",
      "720    4.800000\n",
      "721    4.770000\n",
      "722    4.700000\n",
      "723    3.567832\n",
      "Name: size, Length: 724, dtype: float64\n"
     ]
    }
   ],
   "source": [
    "dataLinear[dataLinear.columns[2]] = dataLinear[dataLinear.columns[2]].replace(\".\", np.nan)\n",
    "dataLinear['size'] = dataLinear['size'].astype(float)\n",
    "dataLinear[dataLinear.columns[2]] = dataLinear[dataLinear.columns[2]].fillna(dataLinear[dataLinear.columns[2]].mean())\n",
    "print(dataLinear['size'])\n",
    "dataLinear[dataLinear.columns[3]] = dataLinear[dataLinear.columns[3]].replace(0, np.nan)"
   ]
  },
  {
   "cell_type": "markdown",
   "metadata": {},
   "source": [
    "#### Relationship between GC pairs and genome size"
   ]
  },
  {
   "cell_type": "code",
   "execution_count": 8,
   "metadata": {},
   "outputs": [
    {
     "data": {
      "image/png": "[encoded data removed]",
      "text/plain": [
       "<Figure size 360x360 with 1 Axes>"
      ]
     },
     "metadata": {
      "needs_background": "light"
     },
     "output_type": "display_data"
    }
   ],
   "source": [
    "x = dataLinear['size']\n",
    "y = dataLinear['GC']\n",
    "plt.figure(figsize=(5, 5))\n",
    "plt.plot(x, y, 'bo')\n",
    "plt.xlabel(\"genome size\")\n",
    "plt.ylabel(\"content of GC pairs in the genome\")\n",
    "plt.title(\"Relationship between the content of GC pairs and genome size\")\n",
    "plt.show()"
   ]
  },
  {
   "cell_type": "markdown",
   "metadata": {},
   "source": [
    "#### Median content of GC pairs in the genome"
   ]
  },
  {
   "cell_type": "code",
   "execution_count": 5,
   "metadata": {},
   "outputs": [
    {
     "data": {
      "text/plain": [
       "size            3.285\n",
       "GC             46.600\n",
       "temperature    37.000\n",
       "dtype: float64"
      ]
     },
     "execution_count": 5,
     "metadata": {},
     "output_type": "execute_result"
    }
   ],
   "source": [
    "dataLinear.median()"
   ]
  },
  {
   "cell_type": "markdown",
   "metadata": {},
   "source": [
    "GC : 46.6"
   ]
  },
  {
   "cell_type": "markdown",
   "metadata": {},
   "source": [
    "#### The environment in which bacteria live most often"
   ]
  },
  {
   "cell_type": "code",
   "execution_count": 6,
   "metadata": {},
   "outputs": [
    {
     "data": {
      "text/plain": [
       "habitat\n",
       "Aquatic            126\n",
       "Host-associated    272\n",
       "Multiple           205\n",
       "Specialized         67\n",
       "Terrestrial         40\n",
       "dtype: int64"
      ]
     },
     "execution_count": 6,
     "metadata": {},
     "output_type": "execute_result"
    }
   ],
   "source": [
    "dataLinear.groupby('habitat').size()"
   ]
  },
  {
   "cell_type": "markdown",
   "metadata": {},
   "source": [
    "Host-associated: 272"
   ]
  },
  {
   "cell_type": "markdown",
   "metadata": {},
   "source": [
    "#### Amount of organisms living in extremely low temperatures"
   ]
  },
  {
   "cell_type": "code",
   "execution_count": 7,
   "metadata": {},
   "outputs": [
    {
     "data": {
      "text/plain": [
       "temp.group\n",
       "Hyperthermophilic     28\n",
       "Mesophilic           636\n",
       "Psychrophilic         14\n",
       "Thermophilic          46\n",
       "dtype: int64"
      ]
     },
     "execution_count": 7,
     "metadata": {},
     "output_type": "execute_result"
    }
   ],
   "source": [
    "dataLinear.groupby('temp.group').size()"
   ]
  },
  {
   "cell_type": "markdown",
   "metadata": {},
   "source": [
    "Psychrophilic: 14"
   ]
  },
  {
   "cell_type": "markdown",
   "metadata": {},
   "source": [
    "#### Dataframe description"
   ]
  },
  {
   "cell_type": "code",
   "execution_count": 8,
   "metadata": {
    "scrolled": true
   },
   "outputs": [
    {
     "data": {
      "text/html": [
       "<div>\n",
       "<style scoped>\n",
       "    .dataframe tbody tr th:only-of-type {\n",
       "        vertical-align: middle;\n",
       "    }\n",
       "\n",
       "    .dataframe tbody tr th {\n",
       "        vertical-align: top;\n",
       "    }\n",
       "\n",
       "    .dataframe thead th {\n",
       "        text-align: right;\n",
       "    }\n",
       "</style>\n",
       "<table border=\"1\" class=\"dataframe\">\n",
       "  <thead>\n",
       "    <tr style=\"text-align: right;\">\n",
       "      <th></th>\n",
       "      <th>count</th>\n",
       "      <th>mean</th>\n",
       "      <th>std</th>\n",
       "      <th>min</th>\n",
       "      <th>25%</th>\n",
       "      <th>50%</th>\n",
       "      <th>75%</th>\n",
       "      <th>max</th>\n",
       "    </tr>\n",
       "  </thead>\n",
       "  <tbody>\n",
       "    <tr>\n",
       "      <th>size</th>\n",
       "      <td>724.0</td>\n",
       "      <td>3.569274</td>\n",
       "      <td>1.883809</td>\n",
       "      <td>0.42</td>\n",
       "      <td>2.0</td>\n",
       "      <td>3.285</td>\n",
       "      <td>4.8825</td>\n",
       "      <td>13.03</td>\n",
       "    </tr>\n",
       "    <tr>\n",
       "      <th>GC</th>\n",
       "      <td>719.0</td>\n",
       "      <td>47.820028</td>\n",
       "      <td>13.144451</td>\n",
       "      <td>20.10</td>\n",
       "      <td>37.4</td>\n",
       "      <td>46.600</td>\n",
       "      <td>59.5500</td>\n",
       "      <td>74.90</td>\n",
       "    </tr>\n",
       "    <tr>\n",
       "      <th>temperature</th>\n",
       "      <td>402.0</td>\n",
       "      <td>38.356716</td>\n",
       "      <td>16.210393</td>\n",
       "      <td>7.00</td>\n",
       "      <td>30.0</td>\n",
       "      <td>37.000</td>\n",
       "      <td>37.0000</td>\n",
       "      <td>103.00</td>\n",
       "    </tr>\n",
       "  </tbody>\n",
       "</table>\n",
       "</div>"
      ],
      "text/plain": [
       "             count       mean        std    min   25%     50%      75%     max\n",
       "size         724.0   3.569274   1.883809   0.42   2.0   3.285   4.8825   13.03\n",
       "GC           719.0  47.820028  13.144451  20.10  37.4  46.600  59.5500   74.90\n",
       "temperature  402.0  38.356716  16.210393   7.00  30.0  37.000  37.0000  103.00"
      ]
     },
     "execution_count": 8,
     "metadata": {},
     "output_type": "execute_result"
    }
   ],
   "source": [
    "dataLinear.describe().T\n"
   ]
  },
  {
   "cell_type": "markdown",
   "metadata": {},
   "source": [
    "#### Applying linear regression"
   ]
  },
  {
   "cell_type": "markdown",
   "metadata": {},
   "source": [
    "$H_0:$ There is no correlation between the content of GC pairs in the bacterial genome and its size.\n",
    "\n",
    "$H_1:$ There is correlation between the content of GC pairs in the bacterial genome and its size."
   ]
  },
  {
   "cell_type": "code",
   "execution_count": 9,
   "metadata": {},
   "outputs": [
    {
     "name": "stdout",
     "output_type": "stream",
     "text": [
      "intercept: 34.08413789943083\n",
      "coef: [4.04092203]\n",
      "R^2: 0.31494424451929337\n"
     ]
    }
   ],
   "source": [
    "# sklearn:\n",
    "dataLinear = dataLinear.dropna()\n",
    "x = np.array(dataLinear['size']).reshape((-1, 1)) \n",
    "y = dataLinear['GC']\n",
    "regSKL = LinearRegression()\n",
    "regSKL.fit(x,y)\n",
    "print(f\"intercept: {regSKL.intercept_}\")\n",
    "print(f\"coef: {regSKL.coef_}\")\n",
    "print(f\"R^2: {regSKL.score(x,y)}\")"
   ]
  },
  {
   "cell_type": "markdown",
   "metadata": {},
   "source": [
    "function form:\n",
    "\n",
    "$y = 34.08 + 4.04x_1 + e$"
   ]
  },
  {
   "cell_type": "code",
   "execution_count": 10,
   "metadata": {
    "scrolled": true
   },
   "outputs": [
    {
     "data": {
      "text/html": [
       "<table class=\"simpletable\">\n",
       "<caption>OLS Regression Results</caption>\n",
       "<tr>\n",
       "  <th>Dep. Variable:</th>           <td>GC</td>        <th>  R-squared:         </th> <td>   0.315</td>\n",
       "</tr>\n",
       "<tr>\n",
       "  <th>Model:</th>                   <td>OLS</td>       <th>  Adj. R-squared:    </th> <td>   0.313</td>\n",
       "</tr>\n",
       "<tr>\n",
       "  <th>Method:</th>             <td>Least Squares</td>  <th>  F-statistic:       </th> <td>   178.4</td>\n",
       "</tr>\n",
       "<tr>\n",
       "  <th>Date:</th>             <td>Wed, 03 Mar 2021</td> <th>  Prob (F-statistic):</th> <td>9.70e-34</td>\n",
       "</tr>\n",
       "<tr>\n",
       "  <th>Time:</th>                 <td>14:48:51</td>     <th>  Log-Likelihood:    </th> <td> -1479.1</td>\n",
       "</tr>\n",
       "<tr>\n",
       "  <th>No. Observations:</th>      <td>   390</td>      <th>  AIC:               </th> <td>   2962.</td>\n",
       "</tr>\n",
       "<tr>\n",
       "  <th>Df Residuals:</th>          <td>   388</td>      <th>  BIC:               </th> <td>   2970.</td>\n",
       "</tr>\n",
       "<tr>\n",
       "  <th>Df Model:</th>              <td>     1</td>      <th>                     </th>     <td> </td>   \n",
       "</tr>\n",
       "<tr>\n",
       "  <th>Covariance Type:</th>      <td>nonrobust</td>    <th>                     </th>     <td> </td>   \n",
       "</tr>\n",
       "</table>\n",
       "<table class=\"simpletable\">\n",
       "<tr>\n",
       "    <td></td>       <th>coef</th>     <th>std err</th>      <th>t</th>      <th>P>|t|</th>  <th>[0.025</th>    <th>0.975]</th>  \n",
       "</tr>\n",
       "<tr>\n",
       "  <th>const</th> <td>   34.0841</td> <td>    1.203</td> <td>   28.328</td> <td> 0.000</td> <td>   31.719</td> <td>   36.450</td>\n",
       "</tr>\n",
       "<tr>\n",
       "  <th>x1</th>    <td>    4.0409</td> <td>    0.303</td> <td>   13.356</td> <td> 0.000</td> <td>    3.446</td> <td>    4.636</td>\n",
       "</tr>\n",
       "</table>\n",
       "<table class=\"simpletable\">\n",
       "<tr>\n",
       "  <th>Omnibus:</th>       <td>11.758</td> <th>  Durbin-Watson:     </th> <td>   0.908</td>\n",
       "</tr>\n",
       "<tr>\n",
       "  <th>Prob(Omnibus):</th> <td> 0.003</td> <th>  Jarque-Bera (JB):  </th> <td>   6.390</td>\n",
       "</tr>\n",
       "<tr>\n",
       "  <th>Skew:</th>          <td> 0.096</td> <th>  Prob(JB):          </th> <td>  0.0410</td>\n",
       "</tr>\n",
       "<tr>\n",
       "  <th>Kurtosis:</th>      <td> 2.403</td> <th>  Cond. No.          </th> <td>    9.22</td>\n",
       "</tr>\n",
       "</table><br/><br/>Notes:<br/>[1] Standard Errors assume that the covariance matrix of the errors is correctly specified."
      ],
      "text/plain": [
       "<class 'statsmodels.iolib.summary.Summary'>\n",
       "\"\"\"\n",
       "                            OLS Regression Results                            \n",
       "==============================================================================\n",
       "Dep. Variable:                     GC   R-squared:                       0.315\n",
       "Model:                            OLS   Adj. R-squared:                  0.313\n",
       "Method:                 Least Squares   F-statistic:                     178.4\n",
       "Date:                Wed, 03 Mar 2021   Prob (F-statistic):           9.70e-34\n",
       "Time:                        14:48:51   Log-Likelihood:                -1479.1\n",
       "No. Observations:                 390   AIC:                             2962.\n",
       "Df Residuals:                     388   BIC:                             2970.\n",
       "Df Model:                           1                                         \n",
       "Covariance Type:            nonrobust                                         \n",
       "==============================================================================\n",
       "                 coef    std err          t      P>|t|      [0.025      0.975]\n",
       "------------------------------------------------------------------------------\n",
       "const         34.0841      1.203     28.328      0.000      31.719      36.450\n",
       "x1             4.0409      0.303     13.356      0.000       3.446       4.636\n",
       "==============================================================================\n",
       "Omnibus:                       11.758   Durbin-Watson:                   0.908\n",
       "Prob(Omnibus):                  0.003   Jarque-Bera (JB):                6.390\n",
       "Skew:                           0.096   Prob(JB):                       0.0410\n",
       "Kurtosis:                       2.403   Cond. No.                         9.22\n",
       "==============================================================================\n",
       "\n",
       "Notes:\n",
       "[1] Standard Errors assume that the covariance matrix of the errors is correctly specified.\n",
       "\"\"\""
      ]
     },
     "execution_count": 10,
     "metadata": {},
     "output_type": "execute_result"
    }
   ],
   "source": [
    "# statsmodel:\n",
    "x = sm.add_constant(x)\n",
    "regSM = sm.OLS(y,x)\n",
    "res = regSM.fit()\n",
    "res.summary()\n"
   ]
  },
  {
   "cell_type": "markdown",
   "metadata": {},
   "source": [
    "#### Are the residuals from the normal distribution?"
   ]
  },
  {
   "cell_type": "code",
   "execution_count": 18,
   "metadata": {},
   "outputs": [
    {
     "data": {
      "text/plain": [
       "ShapiroResult(statistic=0.9887175559997559, pvalue=0.004148722160607576)"
      ]
     },
     "execution_count": 18,
     "metadata": {},
     "output_type": "execute_result"
    }
   ],
   "source": [
    "from scipy import stats\n",
    "stats.shapiro(res.resid)"
   ]
  },
  {
   "cell_type": "markdown",
   "metadata": {},
   "source": [
    "Residuals are not from a normal distribution"
   ]
  },
  {
   "cell_type": "code",
   "execution_count": null,
   "metadata": {},
   "outputs": [],
   "source": []
  }
 ],
 "metadata": {
  "kernelspec": {
   "display_name": "Python 3",
   "language": "python",
   "name": "python3"
  },
  "language_info": {
   "codemirror_mode": {
    "name": "ipython",
    "version": 3
   },
   "file_extension": ".py",
   "mimetype": "text/x-python",
   "name": "python",
   "nbconvert_exporter": "python",
   "pygments_lexer": "ipython3",
   "version": "3.7.4"
  }
 },
 "nbformat": 4,
 "nbformat_minor": 4
}
